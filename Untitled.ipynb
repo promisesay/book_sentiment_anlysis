{
 "cells": [
  {
   "cell_type": "markdown",
   "id": "aa0e8d45-61d5-4d24-baed-3d70a9789a32",
   "metadata": {
    "jp-MarkdownHeadingCollapsed": true
   },
   "source": [
    "## load the information\n"
   ]
  },
  {
   "cell_type": "code",
   "execution_count": 1,
   "id": "d1180638-c53f-4e0f-ab17-a87df5e2ca17",
   "metadata": {},
   "outputs": [],
   "source": [
    "with open(\"miracle-in-the-andes.txt\", \"r\", encoding=\"utf-8\") as file:\n",
    "    book = file.read()\n"
   ]
  },
  {
   "cell_type": "markdown",
   "id": "cc065551-27a0-4e1c-b12f-bae865e29e66",
   "metadata": {
    "jp-MarkdownHeadingCollapsed": true
   },
   "source": [
    "## Extract the paragraphs where \"love\" was used"
   ]
  },
  {
   "cell_type": "code",
   "execution_count": 93,
   "id": "fdf6d959-46e7-4f01-96c5-8bb917985f9f",
   "metadata": {},
   "outputs": [
    {
     "name": "stdout",
     "output_type": "stream",
     "text": [
      "ok\n"
     ]
    }
   ],
   "source": [
    "import re\n",
    "love = re.compile(\"[^\\n]*love[^\\n]*\")\n",
    "love3 = re.compile(\"[^\\n]+love[^\\n]+\")\n",
    "ls_love3= re.findall(love3, book)\n",
    "ls_love = re.findall(love, book)\n",
    "if ls_love == ls_love3:\n",
    "    print(\"ok\")\n",
    "else:\n",
    "    print(\"no\")"
   ]
  },
  {
   "cell_type": "markdown",
   "id": "295aa601-0f25-4455-b8cf-27b19624beac",
   "metadata": {
    "jp-MarkdownHeadingCollapsed": true
   },
   "source": [
    "## Extract the Chapter title"
   ]
  },
  {
   "cell_type": "code",
   "execution_count": 95,
   "id": "0948498d-726a-43f1-af73-efc43fac7093",
   "metadata": {},
   "outputs": [
    {
     "data": {
      "text/plain": [
       "['Before',\n",
       " 'Everything Precious',\n",
       " 'A Promise',\n",
       " 'Breathe Once More',\n",
       " 'Abandoned',\n",
       " 'Tomb',\n",
       " 'East',\n",
       " 'The Opposite of Death',\n",
       " 'I See a Man',\n",
       " 'After']"
      ]
     },
     "execution_count": 95,
     "metadata": {},
     "output_type": "execute_result"
    }
   ],
   "source": [
    "title = re.compile(\"\\n\\n[a-zA-Z ]+\\n\\n\")\n",
    "title_jo = re.findall(title, book)\n",
    "len(title_jo)\n",
    "title_jo = [i.strip(\"\\n\") for i in title_jo]\n",
    "title_jo"
   ]
  },
  {
   "cell_type": "code",
   "execution_count": null,
   "id": "cc453d03-fcec-4a8c-9c5d-abd334929453",
   "metadata": {},
   "outputs": [],
   "source": []
  },
  {
   "cell_type": "markdown",
   "id": "6bf1f3f3-a97f-404d-be3a-c7a73936198c",
   "metadata": {
    "jp-MarkdownHeadingCollapsed": true
   },
   "source": [
    "## Fuction that finds the occurrence of word"
   ]
  },
  {
   "cell_type": "code",
   "execution_count": 82,
   "id": "88e6fcc4-a82e-4421-b556-fedc7ca48016",
   "metadata": {},
   "outputs": [],
   "source": [
    "def find(word):\n",
    "    compile = re.compile()\n",
    "    vote = re.findall(compile, book)\n",
    "    if len(vote) == 0:\n",
    "        responce = f\"the word {vote} never was used in the book\"    \n",
    "    else: \n",
    "        responce = f\"time that {word} was included in book:{len(vote)}\"\n",
    "    return responce"
   ]
  },
  {
   "cell_type": "markdown",
   "id": "53996feb-1c1d-49f6-b335-5a8c12aa7255",
   "metadata": {},
   "source": [
    "## Call the fucntion"
   ]
  },
  {
   "cell_type": "code",
   "execution_count": 83,
   "id": "50cdfbb3-e32b-4744-b6ed-0de7232bd87e",
   "metadata": {},
   "outputs": [
    {
     "data": {
      "text/plain": [
       "'time that love was included in book:114'"
      ]
     },
     "execution_count": 83,
     "metadata": {},
     "output_type": "execute_result"
    }
   ],
   "source": [
    "find(\"love\")"
   ]
  },
  {
   "cell_type": "code",
   "execution_count": 84,
   "id": "570bccfa-7951-44ed-90bc-ca3c5f1f0780",
   "metadata": {},
   "outputs": [
    {
     "data": {
      "text/plain": [
       "'time that hate was included in book:15'"
      ]
     },
     "execution_count": 84,
     "metadata": {},
     "output_type": "execute_result"
    }
   ],
   "source": [
    "find(\"hate\")"
   ]
  },
  {
   "cell_type": "code",
   "execution_count": null,
   "id": "87398d64-408e-467f-92d2-fa9c3ecc6ca4",
   "metadata": {},
   "outputs": [],
   "source": [
    "def search(word):\n",
    "    "
   ]
  },
  {
   "cell_type": "code",
   "execution_count": null,
   "id": "e15725de-9d37-4686-9d6e-6b3522462ca6",
   "metadata": {},
   "outputs": [],
   "source": []
  }
 ],
 "metadata": {
  "kernelspec": {
   "display_name": "Python 3 (ipykernel)",
   "language": "python",
   "name": "python3"
  },
  "language_info": {
   "codemirror_mode": {
    "name": "ipython",
    "version": 3
   },
   "file_extension": ".py",
   "mimetype": "text/x-python",
   "name": "python",
   "nbconvert_exporter": "python",
   "pygments_lexer": "ipython3",
   "version": "3.11.3"
  }
 },
 "nbformat": 4,
 "nbformat_minor": 5
}
