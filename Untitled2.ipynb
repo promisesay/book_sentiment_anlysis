{
 "cells": [
  {
   "cell_type": "code",
   "execution_count": 1,
   "id": "fc21b53d-99e7-436e-a9d1-3da7e23559db",
   "metadata": {},
   "outputs": [],
   "source": [
    "import re\n",
    "with open(\"miracle-in-the-andes.txt\", \"r\", encoding=\"utf-8\") as file:\n",
    "    book = file.read()"
   ]
  },
  {
   "cell_type": "code",
   "execution_count": 2,
   "id": "7c77778d-620e-4aca-84e7-1b8111f348bf",
   "metadata": {},
   "outputs": [],
   "source": [
    "word = re.compile(\"[A-Za-z]+\")\n",
    "finder = re.findall(word, book)\n",
    "d = {}\n",
    "for i in finder:\n",
    "    if i in d.keys():\n",
    "        d[i] = d[i] + 1\n",
    "    else:\n",
    "        d[i] = 1"
   ]
  },
  {
   "cell_type": "code",
   "execution_count": 3,
   "id": "f8fd43c5-66a6-4c27-b35e-84a3ff4a309d",
   "metadata": {},
   "outputs": [],
   "source": [
    "g = [(i, d[i]) for i in d.keys()]\n",
    "f = [(key, values) for (values, key) in d.items()]"
   ]
  },
  {
   "cell_type": "code",
   "execution_count": null,
   "id": "f2e62692-9d3b-4932-abb1-b069a530db8f",
   "metadata": {},
   "outputs": [],
   "source": []
  },
  {
   "cell_type": "code",
   "execution_count": 4,
   "id": "af5a6703-6467-4d39-88e5-0f7e8a4074d3",
   "metadata": {},
   "outputs": [],
   "source": [
    "f = sorted(f, reverse=True)"
   ]
  },
  {
   "cell_type": "code",
   "execution_count": 5,
   "id": "ae8552d7-432c-4447-9c02-e21d10a90075",
   "metadata": {},
   "outputs": [],
   "source": [
    "import nltk\n"
   ]
  },
  {
   "cell_type": "code",
   "execution_count": 6,
   "id": "0633b4af-577d-47bf-860c-944c4b3b8e8c",
   "metadata": {},
   "outputs": [
    {
     "name": "stderr",
     "output_type": "stream",
     "text": [
      "[nltk_data] Downloading package stopwords to\n",
      "[nltk_data]     C:\\Users\\Navid\\AppData\\Roaming\\nltk_data...\n",
      "[nltk_data]   Package stopwords is already up-to-date!\n"
     ]
    }
   ],
   "source": [
    "import nltk\n",
    "nltk.download('stopwords')\n",
    "from nltk.corpus import stopwords"
   ]
  },
  {
   "cell_type": "code",
   "execution_count": 7,
   "id": "a9ac3017-d09d-429e-8762-df43a5f820f1",
   "metadata": {},
   "outputs": [],
   "source": [
    "english_stopwords = stopwords.words(\"english\")"
   ]
  },
  {
   "cell_type": "code",
   "execution_count": 8,
   "id": "db268f01-566e-4342-a9d5-1286833334d5",
   "metadata": {},
   "outputs": [],
   "source": [
    "filtred_word = []\n",
    "for word, count in f:\n",
    "    if count.lower() not in english_stopwords:\n",
    "        list = count, word\n",
    "        filtred_word.append(list)"
   ]
  },
  {
   "cell_type": "code",
   "execution_count": 9,
   "id": "a158f12e-ddb1-4350-8a48-d0d6233a2bd6",
   "metadata": {},
   "outputs": [
    {
     "data": {
      "text/plain": [
       "7225"
      ]
     },
     "execution_count": 9,
     "metadata": {},
     "output_type": "execute_result"
    }
   ],
   "source": [
    "len(filtred_word)"
   ]
  },
  {
   "cell_type": "markdown",
   "id": "4cff0157-6aed-4ae8-8146-2e9f133f9c25",
   "metadata": {},
   "source": [
    "### sentiment analysise"
   ]
  },
  {
   "cell_type": "markdown",
   "id": "9c1dde29-8a3b-46ef-b261-3aa824657e18",
   "metadata": {},
   "source": [
    "#### example"
   ]
  },
  {
   "cell_type": "code",
   "execution_count": 10,
   "id": "9c6e31fb-b31e-4be5-8f09-ab3c1e393db1",
   "metadata": {},
   "outputs": [
    {
     "name": "stderr",
     "output_type": "stream",
     "text": [
      "[nltk_data] Downloading package vader_lexicon to\n",
      "[nltk_data]     C:\\Users\\Navid\\AppData\\Roaming\\nltk_data...\n",
      "[nltk_data]   Package vader_lexicon is already up-to-date!\n"
     ]
    },
    {
     "data": {
      "text/plain": [
       "True"
      ]
     },
     "execution_count": 10,
     "metadata": {},
     "output_type": "execute_result"
    }
   ],
   "source": [
    "from nltk.sentiment import SentimentIntensityAnalyzer\n",
    "nltk.download(\"vader_lexicon\")"
   ]
  },
  {
   "cell_type": "code",
   "execution_count": 17,
   "id": "c00e4cac-7af8-4150-b430-adb51d8b477d",
   "metadata": {},
   "outputs": [
    {
     "data": {
      "text/plain": [
       "{'neg': 0.585, 'neu': 0.415, 'pos': 0.0, 'compound': -0.7939}"
      ]
     },
     "execution_count": 17,
     "metadata": {},
     "output_type": "execute_result"
    }
   ],
   "source": [
    "analyzer = SentimentIntensityAnalyzer()\n",
    "scores = analyzer.polarity_scores(\"this is a very useless book, i hate this\")\n",
    "scores"
   ]
  },
  {
   "cell_type": "markdown",
   "id": "777b07fb-2935-4b54-8219-6ba41043550a",
   "metadata": {},
   "source": [
    "#### analyzing every chpater of the book"
   ]
  },
  {
   "cell_type": "code",
   "execution_count": 22,
   "id": "8900514d-0d55-4372-93ed-c85a6c3641c4",
   "metadata": {},
   "outputs": [],
   "source": [
    "chapter = re.compile(\"Chapter [0-9]*\")\n",
    "chapters = re.split(chapter, book)\n",
    "chapters = chapters[1:]"
   ]
  },
  {
   "cell_type": "code",
   "execution_count": 23,
   "id": "ffcf8168-92c3-45d5-bc68-46534d4c190f",
   "metadata": {},
   "outputs": [
    {
     "name": "stdout",
     "output_type": "stream",
     "text": [
      "{'neg': 0.061, 'neu': 0.779, 'pos': 0.16, 'compound': 1.0}\n",
      "{'neg': 0.12, 'neu': 0.726, 'pos': 0.154, 'compound': 0.9991}\n",
      "{'neg': 0.145, 'neu': 0.751, 'pos': 0.105, 'compound': -0.9999}\n",
      "{'neg': 0.141, 'neu': 0.721, 'pos': 0.138, 'compound': -0.9963}\n",
      "{'neg': 0.118, 'neu': 0.742, 'pos': 0.141, 'compound': 0.9997}\n",
      "{'neg': 0.124, 'neu': 0.761, 'pos': 0.115, 'compound': -0.9979}\n",
      "{'neg': 0.136, 'neu': 0.761, 'pos': 0.103, 'compound': -0.9999}\n",
      "{'neg': 0.12, 'neu': 0.786, 'pos': 0.094, 'compound': -0.9998}\n",
      "{'neg': 0.097, 'neu': 0.824, 'pos': 0.079, 'compound': -0.9996}\n",
      "{'neg': 0.086, 'neu': 0.733, 'pos': 0.181, 'compound': 1.0}\n"
     ]
    }
   ],
   "source": [
    "for part in chapters:\n",
    "    scores = analyzer.polarity_scores(part)\n",
    "    print(scores)"
   ]
  }
 ],
 "metadata": {
  "kernelspec": {
   "display_name": "Python 3 (ipykernel)",
   "language": "python",
   "name": "python3"
  },
  "language_info": {
   "codemirror_mode": {
    "name": "ipython",
    "version": 3
   },
   "file_extension": ".py",
   "mimetype": "text/x-python",
   "name": "python",
   "nbconvert_exporter": "python",
   "pygments_lexer": "ipython3",
   "version": "3.11.3"
  }
 },
 "nbformat": 4,
 "nbformat_minor": 5
}
