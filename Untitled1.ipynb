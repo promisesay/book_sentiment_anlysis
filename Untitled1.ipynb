{
 "cells": [
  {
   "cell_type": "markdown",
   "id": "0d96d411-fe5a-487a-8b5a-f3b3390c5b41",
   "metadata": {},
   "source": [
    "## load the book"
   ]
  },
  {
   "cell_type": "code",
   "execution_count": 4,
   "id": "70e59e0c-2fdb-4184-88be-e4ef3b22c00d",
   "metadata": {},
   "outputs": [],
   "source": [
    "with open(\"miracle-in-the-andes.txt\", \"r\", encoding=\"utf-8\") as file:\n",
    "    book = file.read()"
   ]
  },
  {
   "cell_type": "code",
   "execution_count": 7,
   "id": "9464b2e8-6295-4508-9fd9-a04028d52fab",
   "metadata": {},
   "outputs": [
    {
     "data": {
      "text/plain": [
       "10"
      ]
     },
     "execution_count": 7,
     "metadata": {},
     "output_type": "execute_result"
    }
   ],
   "source": [
    "import re\n",
    "pattern = re.compile(\"Chapter [0-9]+\")\n",
    "findall = re.findall(pattern, book)\n",
    "len(findall)"
   ]
  },
  {
   "cell_type": "markdown",
   "id": "c2bb7b8c-b52c-4d11-a9d6-cadcd379b62c",
   "metadata": {},
   "source": [
    "## finding a sentence"
   ]
  },
  {
   "cell_type": "markdown",
   "id": "5fc529f7-d0c8-4589-8b6f-c99b58e9fb2c",
   "metadata": {},
   "source": [
    "### finding every sentence that have the word love in it"
   ]
  },
  {
   "cell_type": "code",
   "execution_count": 23,
   "id": "2472cffc-0b27-4884-9a89-87515897d0e5",
   "metadata": {},
   "outputs": [
    {
     "data": {
      "text/plain": [
       "86798"
      ]
     },
     "execution_count": 23,
     "metadata": {},
     "output_type": "execute_result"
    }
   ],
   "source": [
    "pat = re.compile(\"[A-Za-z]+\")\n",
    "love = re.findall(pat, book)\n",
    "len(love)\n"
   ]
  },
  {
   "cell_type": "code",
   "execution_count": 25,
   "id": "e5aadb66-ca14-4ac1-b974-21636c373afc",
   "metadata": {},
   "outputs": [],
   "source": [
    "d = {}\n",
    "for i in love:\n",
    "    if i in d.keys():\n",
    "        d[i] = d[i] + 1\n",
    "    else:\n",
    "        d[i] = 1"
   ]
  },
  {
   "cell_type": "code",
   "execution_count": 27,
   "id": "d8f7ef11-b6a6-4f39-a0d7-001e92166de3",
   "metadata": {},
   "outputs": [
    {
     "ename": "AttributeError",
     "evalue": "'dict' object has no attribute 'max'",
     "output_type": "error",
     "traceback": [
      "\u001b[1;31m---------------------------------------------------------------------------\u001b[0m",
      "\u001b[1;31mAttributeError\u001b[0m                            Traceback (most recent call last)",
      "Cell \u001b[1;32mIn[27], line 1\u001b[0m\n\u001b[1;32m----> 1\u001b[0m \u001b[43md\u001b[49m\u001b[38;5;241;43m.\u001b[39;49m\u001b[43mmax\u001b[49m()\n",
      "\u001b[1;31mAttributeError\u001b[0m: 'dict' object has no attribute 'max'"
     ]
    }
   ],
   "source": []
  }
 ],
 "metadata": {
  "kernelspec": {
   "display_name": "Python 3 (ipykernel)",
   "language": "python",
   "name": "python3"
  },
  "language_info": {
   "codemirror_mode": {
    "name": "ipython",
    "version": 3
   },
   "file_extension": ".py",
   "mimetype": "text/x-python",
   "name": "python",
   "nbconvert_exporter": "python",
   "pygments_lexer": "ipython3",
   "version": "3.11.3"
  }
 },
 "nbformat": 4,
 "nbformat_minor": 5
}
